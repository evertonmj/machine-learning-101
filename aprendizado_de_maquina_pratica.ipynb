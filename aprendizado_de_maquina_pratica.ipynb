{
  "metadata": {
    "colab": {
      "provenance": []
    },
    "kernelspec": {
      "name": "python",
      "display_name": "Python (Pyodide)",
      "language": "python"
    },
    "language_info": {
      "codemirror_mode": {
        "name": "python",
        "version": 3
      },
      "file_extension": ".py",
      "mimetype": "text/x-python",
      "name": "python",
      "nbconvert_exporter": "python",
      "pygments_lexer": "ipython3",
      "version": "3.8"
    }
  },
  "nbformat_minor": 4,
  "nbformat": 4,
  "cells": [
    {
      "cell_type": "markdown",
      "source": "# Carregando bibliotecas e dados que serão analisados",
      "metadata": {
        "id": "QkTWXwUkZ7XF"
      }
    },
    {
      "cell_type": "code",
      "source": "# Bibliotecas utilizadas no projeto\n\nimport sys\nimport pandas\nimport matplotlib.pyplot as plt\nfrom sklearn import model_selection\nfrom sklearn.metrics import classification_report\nfrom sklearn.linear_model import LogisticRegression\nfrom sklearn.tree import DecisionTreeClassifier\nfrom sklearn.neighbors import KNeighborsClassifier\nfrom sklearn.naive_bayes import GaussianNB",
      "metadata": {
        "id": "foSD6qOWV1z-",
        "trusted": true
      },
      "execution_count": null,
      "outputs": []
    },
    {
      "cell_type": "code",
      "source": "# Nesta atividades utilizaremos o dataset IRIS\n\nurl = './iris.csv' # url do dataset\natributos = [\"sepal_length\", \"sepal_width\", \"petal_length\", \"petal_width\", \"class\"] # colunas presentes no arquivo\niris_dataset = pandas.read_csv(url, names = atributos) # aqui é feita a leitura do dataset utilizando as colunas acima\niris_dataset.columns = atributos # como o conjunto de dados não possui cabeçalho, aqui definimos os nomes",
      "metadata": {
        "id": "7i6IcSXOWQwI",
        "trusted": true
      },
      "execution_count": null,
      "outputs": []
    },
    {
      "cell_type": "markdown",
      "source": "# Entendo o dataset e visualizando gráficos",
      "metadata": {
        "id": "7GLAYharaJRf"
      }
    },
    {
      "cell_type": "code",
      "source": "# Entendo os dados\n# Aqui iremos visualiar o conjunto de dados e entender seus atributos principais\n\n# Dimensões do dataset\n",
      "metadata": {
        "colab": {
          "base_uri": "https://localhost:8080/"
        },
        "id": "D0-DuPVQXdQI",
        "outputId": "164104bb-3e41-4528-ee1f-60311e5f312a",
        "trusted": true
      },
      "execution_count": null,
      "outputs": []
    },
    {
      "cell_type": "code",
      "source": "# Primeiros registros do dataset\n\n",
      "metadata": {
        "colab": {
          "base_uri": "https://localhost:8080/"
        },
        "id": "4DR2BFEhXr_9",
        "outputId": "34fa10ba-c1f6-4a40-8067-1e3fd5085441",
        "trusted": true
      },
      "execution_count": null,
      "outputs": []
    },
    {
      "cell_type": "code",
      "source": "# Resumo estatístico do dataset\n",
      "metadata": {
        "colab": {
          "base_uri": "https://localhost:8080/"
        },
        "id": "ZugqGjECX68b",
        "outputId": "78d6fd64-c2b8-42a0-f5b9-b16aafb80958",
        "trusted": true
      },
      "execution_count": null,
      "outputs": []
    },
    {
      "cell_type": "code",
      "source": "# Classes presentes no dataset\n",
      "metadata": {
        "colab": {
          "base_uri": "https://localhost:8080/"
        },
        "id": "TMoet4w0YHYO",
        "outputId": "006756f1-7a07-4f8e-a9cb-a833b1652faa",
        "trusted": true
      },
      "execution_count": null,
      "outputs": []
    },
    {
      "cell_type": "code",
      "source": "# Visualização dos dados\n# Aqui utilizaremos alguns gráficos para entender a distribuição dos dados\n\niris_dataset.hist() #histograma\nplt.show()",
      "metadata": {
        "colab": {
          "base_uri": "https://localhost:8080/",
          "height": 452
        },
        "id": "AGWRIkaVYWsq",
        "outputId": "460a7b3d-ddb8-4e23-df7a-b9b3ef987212",
        "trusted": true
      },
      "execution_count": null,
      "outputs": []
    },
    {
      "cell_type": "code",
      "source": "# Boxplot\n\niris_dataset.plot(kind='box', subplots=True, layout=(2,2), sharex=False, sharey=False)\nplt.show()",
      "metadata": {
        "colab": {
          "base_uri": "https://localhost:8080/",
          "height": 434
        },
        "id": "La8pMMv8YoDZ",
        "outputId": "6f584eb4-9c30-41c0-cf3c-ba3b7e2ad447",
        "trusted": true
      },
      "execution_count": null,
      "outputs": []
    },
    {
      "cell_type": "code",
      "source": "",
      "metadata": {
        "id": "mwN3DIntbSoP"
      },
      "execution_count": null,
      "outputs": []
    },
    {
      "cell_type": "markdown",
      "source": "# Utilizando os algoritmos",
      "metadata": {
        "id": "rF2vDckXaPPg"
      }
    },
    {
      "cell_type": "markdown",
      "source": "Separando conjuntos de treinamento e teste",
      "metadata": {
        "id": "mqJPHWnRj5HE"
      }
    },
    {
      "cell_type": "code",
      "source": "# Dividindo os dados entre conjuntos de treinamento e validação\nvalores = iris_dataset.values\nX = valores[:,0:4] # conjunto de treinamento\nY = valores[:,4] # conjunto de teste\n\nvalidation_size = 0.20\nseed = 7\nscoring = 'accuracy'\n",
      "metadata": {
        "id": "roOg3RwMY8AD",
        "trusted": true
      },
      "execution_count": null,
      "outputs": []
    },
    {
      "cell_type": "markdown",
      "source": "Algoritmos supervisionados",
      "metadata": {
        "id": "xjkvf20imURh"
      }
    },
    {
      "cell_type": "code",
      "source": "# Logistic Regression\n# https://scikit-learn.org/stable/modules/generated/sklearn.linear_model.LogisticRegression.html\n\n",
      "metadata": {
        "colab": {
          "base_uri": "https://localhost:8080/"
        },
        "id": "QdEfLqkmmWef",
        "outputId": "ff4bf650-2c6a-4d2d-a8db-db45438a8598",
        "trusted": true
      },
      "execution_count": null,
      "outputs": []
    },
    {
      "cell_type": "code",
      "source": "# Decision Trees\n# https://scikit-learn.org/stable/modules/tree.html\n",
      "metadata": {
        "colab": {
          "base_uri": "https://localhost:8080/"
        },
        "id": "ELioyMOrjTlw",
        "outputId": "d6de402c-77f5-4e54-b933-d4cbdafc75a7",
        "trusted": true
      },
      "execution_count": null,
      "outputs": []
    },
    {
      "cell_type": "code",
      "source": "# Naive Bayes\n# https://scikit-learn.org/stable/modules/naive_bayes.html\n\n",
      "metadata": {
        "colab": {
          "base_uri": "https://localhost:8080/"
        },
        "id": "9_WK1KstjTjZ",
        "outputId": "978837f3-a7e1-4a6c-b3ca-37670823904c",
        "trusted": true
      },
      "execution_count": null,
      "outputs": []
    },
    {
      "cell_type": "markdown",
      "source": "Algoritmos Não Supervisionados",
      "metadata": {
        "id": "MOT5SaQhj8OH"
      }
    },
    {
      "cell_type": "code",
      "source": "# KNN\n# https://scikit-learn.org/stable/modules/neighbors.html",
      "metadata": {
        "colab": {
          "base_uri": "https://localhost:8080/"
        },
        "id": "iJAcLgLvjTdx",
        "outputId": "94d8f59e-7a92-479f-ff48-0075f4866f54",
        "trusted": true
      },
      "execution_count": null,
      "outputs": []
    },
    {
      "cell_type": "code",
      "source": "",
      "metadata": {
        "id": "fcsKu6m8jTJd"
      },
      "execution_count": null,
      "outputs": []
    },
    {
      "cell_type": "code",
      "source": "",
      "metadata": {
        "id": "miPmTtB1jSzX"
      },
      "execution_count": null,
      "outputs": []
    },
    {
      "cell_type": "code",
      "source": "",
      "metadata": {},
      "execution_count": null,
      "outputs": []
    }
  ]
}